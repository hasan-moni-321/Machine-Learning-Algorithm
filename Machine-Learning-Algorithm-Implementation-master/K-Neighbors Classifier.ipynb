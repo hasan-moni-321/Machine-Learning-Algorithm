{
 "cells": [
  {
   "cell_type": "code",
   "execution_count": 3,
   "metadata": {},
   "outputs": [],
   "source": [
    "import numpy as np\n",
    "import pandas as pd\n",
    "import seaborn as sns\n",
    "import matplotlib.pyplot as plt\n",
    "%matplotlib inline\n",
    "from sklearn.datasets import load_digits\n",
    "from sklearn.model_selection import train_test_split\n",
    "from sklearn.neighbors import KNeighborsClassifier\n",
    "from sklearn.metrics import confusion_matrix\n"
   ]
  },
  {
   "cell_type": "markdown",
   "metadata": {},
   "source": [
    "##### Reading Dataset"
   ]
  },
  {
   "cell_type": "code",
   "execution_count": 4,
   "metadata": {},
   "outputs": [
    {
     "data": {
      "text/plain": [
       "['DESCR', 'data', 'images', 'target', 'target_names']"
      ]
     },
     "execution_count": 4,
     "metadata": {},
     "output_type": "execute_result"
    }
   ],
   "source": [
    "digit = load_digits()\n",
    "dir(digit)"
   ]
  },
  {
   "cell_type": "code",
   "execution_count": 5,
   "metadata": {},
   "outputs": [
    {
     "name": "stdout",
     "output_type": "stream",
     "text": [
      "(1797, 8, 8)\n",
      "(1797, 64)\n",
      "(1797,)\n"
     ]
    }
   ],
   "source": [
    "print(digit.images.shape)\n",
    "print(digit.data.shape)\n",
    "print(digit.target.shape)"
   ]
  },
  {
   "cell_type": "markdown",
   "metadata": {},
   "source": [
    "##### Feature and Label data"
   ]
  },
  {
   "cell_type": "code",
   "execution_count": 6,
   "metadata": {},
   "outputs": [],
   "source": [
    "X = digit.data\n",
    "y = digit.target"
   ]
  },
  {
   "cell_type": "markdown",
   "metadata": {},
   "source": [
    "##### splitting into train test "
   ]
  },
  {
   "cell_type": "code",
   "execution_count": 7,
   "metadata": {},
   "outputs": [],
   "source": [
    "Xtrain,xtest, Ytrain,ytest = train_test_split(X,y, test_size=.25)"
   ]
  },
  {
   "cell_type": "markdown",
   "metadata": {},
   "source": [
    "##### algorithm"
   ]
  },
  {
   "cell_type": "code",
   "execution_count": 8,
   "metadata": {},
   "outputs": [],
   "source": [
    "knc = KNeighborsClassifier(n_neighbors=10)\n",
    "\n",
    "knc.fit(Xtrain,Ytrain)\n",
    "predict = knc.predict(xtest)"
   ]
  },
  {
   "cell_type": "code",
   "execution_count": 9,
   "metadata": {},
   "outputs": [
    {
     "data": {
      "text/plain": [
       "array([0, 0, 2, 0, 3, 7, 6, 4, 0, 7, 5, 7, 1, 6, 1, 3, 1, 4, 3, 7, 9, 3,\n",
       "       0, 6, 3, 4, 9, 6, 2, 2, 1, 1, 6, 3, 5, 5, 9, 3, 2, 1, 7, 1, 6, 5,\n",
       "       1, 3, 6, 9, 6, 8, 6, 2, 7, 9, 7, 9, 6, 9, 0, 0, 3, 8, 4, 3, 7, 3,\n",
       "       4, 8, 4, 9, 1, 2, 0, 3, 9, 8, 2, 9, 6, 6, 9, 0, 8, 3, 7, 5, 1, 5,\n",
       "       9, 5, 1, 6, 8, 4, 4, 2, 4, 8, 3, 3, 7, 2, 3, 9, 3, 6, 0, 6, 5, 4,\n",
       "       5, 5, 5, 6, 9, 3, 3, 1, 4, 2, 6, 3, 9, 5, 4, 4, 8, 2, 8, 8, 7, 8,\n",
       "       2, 0, 6, 4, 9, 9, 8, 2, 0, 4, 9, 0, 6, 2, 7, 6, 6, 9, 0, 5, 2, 9,\n",
       "       9, 0, 2, 3, 1, 3, 3, 4, 9, 8, 0, 5, 8, 1, 1, 3, 2, 2, 0, 5, 7, 0,\n",
       "       9, 7, 4, 4, 5, 9, 4, 5, 6, 6, 2, 3, 1, 8, 9, 7, 4, 9, 7, 5, 7, 3,\n",
       "       0, 6, 6, 0, 1, 4, 1, 7, 0, 0, 6, 8, 0, 5, 5, 2, 7, 1, 8, 3, 0, 3,\n",
       "       6, 1, 4, 9, 7, 4, 3, 9, 1, 4, 2, 1, 2, 0, 1, 9, 4, 6, 0, 5, 9, 6,\n",
       "       1, 0, 3, 5, 3, 3, 2, 3, 7, 2, 8, 9, 7, 1, 7, 1, 2, 1, 0, 5, 4, 7,\n",
       "       1, 8, 7, 8, 9, 0, 6, 3, 8, 6, 2, 3, 5, 1, 6, 2, 7, 9, 2, 1, 9, 4,\n",
       "       8, 0, 1, 1, 9, 8, 5, 0, 1, 0, 8, 2, 1, 3, 1, 6, 7, 5, 7, 2, 1, 7,\n",
       "       3, 3, 5, 5, 9, 7, 2, 5, 3, 3, 4, 8, 3, 6, 4, 6, 8, 5, 6, 7, 0, 5,\n",
       "       7, 1, 2, 4, 6, 1, 7, 3, 2, 1, 1, 3, 8, 2, 2, 1, 7, 0, 6, 1, 0, 9,\n",
       "       0, 5, 5, 6, 3, 9, 0, 8, 9, 9, 0, 7, 1, 6, 5, 7, 7, 9, 9, 8, 3, 2,\n",
       "       9, 6, 9, 7, 6, 2, 0, 1, 6, 2, 4, 5, 6, 5, 0, 3, 2, 7, 0, 4, 5, 6,\n",
       "       1, 1, 9, 1, 1, 7, 4, 1, 0, 7, 5, 8, 3, 5, 9, 4, 2, 6, 5, 0, 2, 4,\n",
       "       6, 4, 9, 7, 4, 8, 2, 6, 3, 2, 7, 4, 5, 8, 9, 8, 9, 6, 1, 1, 8, 4,\n",
       "       8, 6, 6, 1, 0, 3, 3, 5, 5, 7])"
      ]
     },
     "execution_count": 9,
     "metadata": {},
     "output_type": "execute_result"
    }
   ],
   "source": [
    "predict"
   ]
  },
  {
   "cell_type": "markdown",
   "metadata": {},
   "source": [
    "##### score fo the model"
   ]
  },
  {
   "cell_type": "code",
   "execution_count": 10,
   "metadata": {},
   "outputs": [
    {
     "data": {
      "text/plain": [
       "0.98"
      ]
     },
     "execution_count": 10,
     "metadata": {},
     "output_type": "execute_result"
    }
   ],
   "source": [
    "knc.score(xtest,ytest)"
   ]
  },
  {
   "cell_type": "markdown",
   "metadata": {},
   "source": [
    "##### confusion matrix"
   ]
  },
  {
   "cell_type": "code",
   "execution_count": 11,
   "metadata": {},
   "outputs": [
    {
     "data": {
      "text/plain": [
       "Text(83.40000000000006, 0.5, 'predicted')"
      ]
     },
     "execution_count": 11,
     "metadata": {},
     "output_type": "execute_result"
    },
    {
     "data": {
      "image/png": "[encoded data removed]",
      "text/plain": [
       "<Figure size 432x288 with 2 Axes>"
      ]
     },
     "metadata": {
      "needs_background": "light"
     },
     "output_type": "display_data"
    }
   ],
   "source": [
    "sns.heatmap(confusion_matrix(ytest,predict), square=True, annot=True)\n",
    "\n",
    "plt.xlabel('true label')\n",
    "plt.ylabel('predicted')"
   ]
  },
  {
   "cell_type": "code",
   "execution_count": null,
   "metadata": {},
   "outputs": [],
   "source": []
  },
  {
   "cell_type": "code",
   "execution_count": null,
   "metadata": {},
   "outputs": [],
   "source": []
  }
 ],
 "metadata": {
  "kernelspec": {
   "display_name": "Python 3",
   "language": "python",
   "name": "python3"
  },
  "language_info": {
   "codemirror_mode": {
    "name": "ipython",
    "version": 3
   },
   "file_extension": ".py",
   "mimetype": "text/x-python",
   "name": "python",
   "nbconvert_exporter": "python",
   "pygments_lexer": "ipython3",
   "version": "3.7.5"
  }
 },
 "nbformat": 4,
 "nbformat_minor": 2
}
