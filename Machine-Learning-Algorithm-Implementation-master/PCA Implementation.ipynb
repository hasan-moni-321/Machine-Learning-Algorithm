{
 "cells": [
  {
   "cell_type": "code",
   "execution_count": 16,
   "metadata": {},
   "outputs": [],
   "source": [
    "import numpy as np\n",
    "import pandas as pd\n",
    "import seaborn as sns\n",
    "import matplotlib.pyplot as plt\n",
    "\n",
    "from sklearn.datasets import load_digits, fetch_lfw_people\n",
    "from sklearn.model_selection import train_test_split\n",
    "from sklearn.decomposition import PCA as RandomizedPCA\n",
    "from sklearn.decomposition import SparsePCA\n",
    "from sklearn.decomposition import PCA"
   ]
  },
  {
   "cell_type": "code",
   "execution_count": 17,
   "metadata": {},
   "outputs": [],
   "source": [
    "faces = fetch_lfw_people(min_faces_per_person=60)"
   ]
  },
  {
   "cell_type": "code",
   "execution_count": 18,
   "metadata": {},
   "outputs": [],
   "source": [
    "xtrain,xtest, ytrain,ytest = train_test_split(faces.data, faces.target, test_size=.3, random_state=13)"
   ]
  },
  {
   "cell_type": "code",
   "execution_count": 19,
   "metadata": {},
   "outputs": [
    {
     "name": "stdout",
     "output_type": "stream",
     "text": [
      "Shape of xtrain : (943, 2914)\n",
      "Shape of xtest : (405, 2914)\n",
      "Shape of ytrain : (943,)\n",
      "Shape of ytest : (405,)\n"
     ]
    }
   ],
   "source": [
    "print('Shape of xtrain :',xtrain.shape)\n",
    "print('Shape of xtest :',xtest.shape)\n",
    "print('Shape of ytrain :',ytrain.shape)\n",
    "print('Shape of ytest :',ytest.shape)"
   ]
  },
  {
   "cell_type": "markdown",
   "metadata": {},
   "source": [
    "### Reducing Dimension using PCA"
   ]
  },
  {
   "cell_type": "code",
   "execution_count": 20,
   "metadata": {},
   "outputs": [],
   "source": [
    "pca = PCA(n_components=3)\n",
    "pca.fit(xtrain)\n",
    "new_dim = pca.transform(xtrain)"
   ]
  },
  {
   "cell_type": "code",
   "execution_count": 21,
   "metadata": {},
   "outputs": [
    {
     "name": "stdout",
     "output_type": "stream",
     "text": [
      "Original dimension is : (943, 2914)\n",
      "After reducing dimension is : (943, 3)\n"
     ]
    }
   ],
   "source": [
    "print('Original dimension is :',xtrain.shape)\n",
    "print('After reducing dimension is :',new_dim.shape)\n"
   ]
  },
  {
   "cell_type": "markdown",
   "metadata": {},
   "source": [
    "I am seeing in previous time dimension was row=943 and column=2914\n",
    "now the dimension is row=943 column=3\n",
    "Note: PCA reduce the number of feature not numbfers of rows\n",
    "n_components parameter have range. It's range is 0 to min(n_sample, n_feature)"
   ]
  },
  {
   "cell_type": "code",
   "execution_count": 22,
   "metadata": {},
   "outputs": [
    {
     "data": {
      "text/plain": [
       "array([[-0.00669952, -0.00698868, -0.00749792, ..., -0.00766872,\n",
       "        -0.0061727 , -0.00570054],\n",
       "       [ 0.01656939,  0.01566691,  0.0158079 , ..., -0.03752428,\n",
       "        -0.03711444, -0.0355063 ],\n",
       "       [-0.01995531, -0.01839818, -0.01683861, ..., -0.03024684,\n",
       "        -0.02691729, -0.02500654]], dtype=float32)"
      ]
     },
     "execution_count": 22,
     "metadata": {},
     "output_type": "execute_result"
    }
   ],
   "source": [
    "pca.components_"
   ]
  },
  {
   "cell_type": "code",
   "execution_count": 23,
   "metadata": {},
   "outputs": [
    {
     "data": {
      "text/plain": [
       "array([768106.6 , 609143.94, 293751.25], dtype=float32)"
      ]
     },
     "execution_count": 23,
     "metadata": {},
     "output_type": "execute_result"
    }
   ],
   "source": [
    "pca.explained_variance_"
   ]
  },
  {
   "cell_type": "markdown",
   "metadata": {},
   "source": [
    "the \"components\" to define the direction of the vector,\n",
    "and the \"explained variance\" to define the squared-length of the vector"
   ]
  },
  {
   "cell_type": "code",
   "execution_count": null,
   "metadata": {},
   "outputs": [],
   "source": []
  },
  {
   "cell_type": "code",
   "execution_count": null,
   "metadata": {},
   "outputs": [],
   "source": []
  },
  {
   "cell_type": "code",
   "execution_count": 24,
   "metadata": {},
   "outputs": [],
   "source": [
    "pca = PCA(n_components=405)\n",
    "pca.fit(xtest)\n",
    "new_dim = pca.transform(xtest)"
   ]
  },
  {
   "cell_type": "code",
   "execution_count": 25,
   "metadata": {},
   "outputs": [
    {
     "name": "stdout",
     "output_type": "stream",
     "text": [
      "Original dimension is : (405, 2914)\n",
      "After reducing dimension : (405, 405)\n"
     ]
    }
   ],
   "source": [
    "print('Original dimension is :',xtest.shape)\n",
    "print('After reducing dimension :',new_dim.shape)"
   ]
  },
  {
   "cell_type": "markdown",
   "metadata": {},
   "source": [
    "original dimension rows=405 columns=2914                                                                                                      \n",
    "after reducing dimension rows=405 columns=405"
   ]
  },
  {
   "cell_type": "code",
   "execution_count": null,
   "metadata": {},
   "outputs": [],
   "source": []
  },
  {
   "cell_type": "code",
   "execution_count": null,
   "metadata": {},
   "outputs": [],
   "source": [
    "pca = PCA(n_components=1000)\n",
    "pca.fit(xtrain)"
   ]
  },
  {
   "cell_type": "markdown",
   "metadata": {},
   "source": [
    "We can't do this because n_components value is not between 0 to min(n_sample, n_feature)"
   ]
  },
  {
   "cell_type": "code",
   "execution_count": null,
   "metadata": {},
   "outputs": [],
   "source": []
  },
  {
   "cell_type": "markdown",
   "metadata": {},
   "source": [
    "### Using RandomizedPCA"
   ]
  },
  {
   "cell_type": "code",
   "execution_count": 27,
   "metadata": {},
   "outputs": [
    {
     "data": {
      "text/plain": [
       "PCA(copy=True, iterated_power='auto', n_components=500, random_state=None,\n",
       "    svd_solver='auto', tol=0.0, whiten=False)"
      ]
     },
     "execution_count": 27,
     "metadata": {},
     "output_type": "execute_result"
    }
   ],
   "source": [
    "rpca = RandomizedPCA(n_components=500)\n",
    "rpca.fit(xtrain)"
   ]
  },
  {
   "cell_type": "code",
   "execution_count": 28,
   "metadata": {},
   "outputs": [],
   "source": [
    "new_dim = rpca.transform(xtrain)"
   ]
  },
  {
   "cell_type": "code",
   "execution_count": 29,
   "metadata": {},
   "outputs": [
    {
     "name": "stdout",
     "output_type": "stream",
     "text": [
      "Original dimension : (943, 2914)\n",
      "After reducing : (943, 500)\n"
     ]
    }
   ],
   "source": [
    "print('Original dimension :',xtrain.shape)\n",
    "print('After reducing :',new_dim.shape)"
   ]
  },
  {
   "cell_type": "code",
   "execution_count": 30,
   "metadata": {},
   "outputs": [
    {
     "data": {
      "text/plain": [
       "array([[-0.00669967, -0.0069887 , -0.00749793, ..., -0.00766872,\n",
       "        -0.00617269, -0.00570053],\n",
       "       [ 0.01656933,  0.01566694,  0.01580788, ..., -0.03752431,\n",
       "        -0.03711446, -0.03550633],\n",
       "       [-0.0199553 , -0.0183981 , -0.01683855, ..., -0.03024689,\n",
       "        -0.02691737, -0.02500664],\n",
       "       ...,\n",
       "       [ 0.00754386, -0.00432319, -0.01125176, ...,  0.00546851,\n",
       "         0.01163317,  0.0002484 ],\n",
       "       [-0.01775719,  0.04461878,  0.00666107, ...,  0.00711606,\n",
       "        -0.01895783, -0.01897602],\n",
       "       [-0.04978964,  0.03724992,  0.05136729, ..., -0.01754193,\n",
       "        -0.03965069, -0.01058245]], dtype=float32)"
      ]
     },
     "execution_count": 30,
     "metadata": {},
     "output_type": "execute_result"
    }
   ],
   "source": [
    "rpca.components_"
   ]
  },
  {
   "cell_type": "code",
   "execution_count": 31,
   "metadata": {},
   "outputs": [
    {
     "data": {
      "text/plain": [
       "(500,)"
      ]
     },
     "execution_count": 31,
     "metadata": {},
     "output_type": "execute_result"
    }
   ],
   "source": [
    "a = rpca.explained_variance_\n",
    "a.shape"
   ]
  },
  {
   "cell_type": "code",
   "execution_count": null,
   "metadata": {},
   "outputs": [],
   "source": []
  },
  {
   "cell_type": "code",
   "execution_count": null,
   "metadata": {},
   "outputs": [],
   "source": [
    "rpca = RandomizedPCA(n_components=500)\n",
    "rpca.fit(xtest)"
   ]
  },
  {
   "cell_type": "markdown",
   "metadata": {},
   "source": [
    "It is not possible because n_components is not between 0 to min(n_samples, n_features)"
   ]
  },
  {
   "cell_type": "code",
   "execution_count": null,
   "metadata": {},
   "outputs": [],
   "source": []
  },
  {
   "cell_type": "markdown",
   "metadata": {},
   "source": [
    "### Backing into Previous Dimension Using PCA"
   ]
  },
  {
   "cell_type": "code",
   "execution_count": 33,
   "metadata": {},
   "outputs": [
    {
     "data": {
      "text/plain": [
       "PCA(copy=True, iterated_power='auto', n_components=100, random_state=None,\n",
       "    svd_solver='auto', tol=0.0, whiten=False)"
      ]
     },
     "execution_count": 33,
     "metadata": {},
     "output_type": "execute_result"
    }
   ],
   "source": [
    "pca = PCA(n_components=100)\n",
    "pca.fit(xtrain)"
   ]
  },
  {
   "cell_type": "code",
   "execution_count": 34,
   "metadata": {},
   "outputs": [],
   "source": [
    "new_dim = pca.transform(xtrain)"
   ]
  },
  {
   "cell_type": "code",
   "execution_count": 35,
   "metadata": {},
   "outputs": [
    {
     "name": "stdout",
     "output_type": "stream",
     "text": [
      "Original dimension is : (943, 2914)\n",
      "New dimension : (943, 100)\n"
     ]
    }
   ],
   "source": [
    "print('Original dimension is :',xtrain.shape)\n",
    "print('New dimension :',new_dim.shape)"
   ]
  },
  {
   "cell_type": "code",
   "execution_count": 36,
   "metadata": {},
   "outputs": [
    {
     "data": {
      "text/plain": [
       "(943, 2914)"
      ]
     },
     "execution_count": 36,
     "metadata": {},
     "output_type": "execute_result"
    }
   ],
   "source": [
    "#backing to previous dimension\n",
    "back_dimension = pca.inverse_transform(new_dim)\n",
    "back_dimension.shape"
   ]
  },
  {
   "cell_type": "markdown",
   "metadata": {},
   "source": [
    "Now it back to it's previous dimension"
   ]
  },
  {
   "cell_type": "code",
   "execution_count": null,
   "metadata": {},
   "outputs": [],
   "source": []
  },
  {
   "cell_type": "markdown",
   "metadata": {},
   "source": [
    "### Using SparsePCA"
   ]
  },
  {
   "cell_type": "code",
   "execution_count": null,
   "metadata": {},
   "outputs": [],
   "source": [
    "spca = SparsePCA(n_components=3)\n",
    "spca.fit(xtest)"
   ]
  },
  {
   "cell_type": "code",
   "execution_count": null,
   "metadata": {},
   "outputs": [],
   "source": [
    "new_dim = spca.transform(xtest)"
   ]
  },
  {
   "cell_type": "code",
   "execution_count": null,
   "metadata": {},
   "outputs": [],
   "source": [
    "print('Original dimension :', xtest.shape)\n",
    "print('New dimension :', new_dim.shape)"
   ]
  },
  {
   "cell_type": "code",
   "execution_count": null,
   "metadata": {},
   "outputs": [],
   "source": [
    "spca.components_"
   ]
  },
  {
   "cell_type": "code",
   "execution_count": null,
   "metadata": {},
   "outputs": [],
   "source": []
  }
 ],
 "metadata": {
  "kernelspec": {
   "display_name": "Python 3",
   "language": "python",
   "name": "python3"
  },
  "language_info": {
   "codemirror_mode": {
    "name": "ipython",
    "version": 3
   },
   "file_extension": ".py",
   "mimetype": "text/x-python",
   "name": "python",
   "nbconvert_exporter": "python",
   "pygments_lexer": "ipython3",
   "version": "3.7.5"
  }
 },
 "nbformat": 4,
 "nbformat_minor": 2
}
