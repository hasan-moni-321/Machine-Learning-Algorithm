{
 "cells": [
  {
   "cell_type": "markdown",
   "metadata": {},
   "source": [
    "### Algorithms those require feature scaling and those not"
   ]
  },
  {
   "cell_type": "code",
   "execution_count": null,
   "metadata": {},
   "outputs": [],
   "source": [
    "Algorithms that require Feature Scaling:\n",
    "• Linear Regression\n",
    "• Logistic Regression\n",
    "• KNN\n",
    "• SVM\n",
    "• KMeans\n",
    "• Hierarchical clustering\n",
    "• Neural Networks\n",
    "\n",
    "Algorithms that donot require Feature Scaling:\n",
    "• Naive Bayes\n",
    "• Decision Tree\n",
    "• Random Forest\n",
    "• AdaBoost\n",
    "• XGBoost"
   ]
  },
  {
   "cell_type": "code",
   "execution_count": null,
   "metadata": {},
   "outputs": [],
   "source": []
  }
 ],
 "metadata": {
  "kernelspec": {
   "display_name": "Python 3",
   "language": "python",
   "name": "python3"
  },
  "language_info": {
   "codemirror_mode": {
    "name": "ipython",
    "version": 3
   },
   "file_extension": ".py",
   "mimetype": "text/x-python",
   "name": "python",
   "nbconvert_exporter": "python",
   "pygments_lexer": "ipython3",
   "version": "3.8.3"
  }
 },
 "nbformat": 4,
 "nbformat_minor": 4
}
